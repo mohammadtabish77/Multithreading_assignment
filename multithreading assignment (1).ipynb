{
 "cells": [
  {
   "cell_type": "markdown",
   "id": "2e997b33-2025-44d3-87b1-29d7a9ad29a3",
   "metadata": {},
   "source": [
    "###Q1.What is multithreading in pyhton? Why is it used? Name the module used to handle threads in pyhton.\n",
    "\n",
    "ANS-Multithreading in Python refers to the capability of a Python program to run multiple threads (smaller units of a process) concurrently. It allows you to perform multiple tasks simultaneously, which can be especially useful for tasks that involve I/O operations or tasks that can be parallelized.\n",
    "\n",
    "The primary module used to handle threads in Python is called `threading`. This module provides a way to create and manage threads in Python programs. You can use it to create threads, start them, synchronize their execution, and communicate between them.\n",
    "\n",
    "Multithreading is used for various purposes, including:\n",
    "\n",
    "1. *Improved Performance:* Multithreading can enhance the performance of a program by utilizing multiple CPU cores effectively, especially for tasks that can be parallelized.\n",
    "\n",
    "2. *Concurrency:* It allows multiple tasks to execute concurrently, making it suitable for applications with multiple I/O operations, such as web scraping, network communication, and file handling.\n",
    "\n",
    "3. *Responsiveness:* Multithreading can help maintain a responsive user interface in graphical applications by running time-consuming tasks in the background without blocking the main thread.\n",
    "\n",
    "However, it's important to note that Python's Global Interpreter Lock (GIL) can limit the true parallelism of threads in Python for CPU-bound tasks. For CPU-bound tasks that require true parallelism, you might consider using the `multiprocessing` module, which allows for parallel execution using separate processes.\n",
    "\n",
    "Here's a basic example of using the `threading` module in Python:"
   ]
  },
  {
   "cell_type": "code",
   "execution_count": 1,
   "id": "cc44785c-5b4a-4f38-a501-023ce725e20c",
   "metadata": {},
   "outputs": [
    {
     "name": "stdout",
     "output_type": "stream",
     "text": [
      "Number 1\n",
      "Number 2\n",
      "Number 3\n",
      "Number 4\n",
      "Number 5\n",
      "Letter a\n",
      "Letter b\n",
      "Letter c\n",
      "Letter d\n",
      "Letter e\n",
      "Both threads have finished.\n"
     ]
    }
   ],
   "source": [
    "import threading\n",
    "\n",
    "def print_numbers():\n",
    "    for i in range(1, 6):\n",
    "        print(f\"Number {i}\")\n",
    "\n",
    "def print_letters():\n",
    "    for letter in 'abcde':\n",
    "        print(f\"Letter {letter}\")\n",
    "\n",
    "# Create two threads\n",
    "thread1 = threading.Thread(target=print_numbers)\n",
    "thread2 = threading.Thread(target=print_letters)\n",
    "\n",
    "# Start the threads\n",
    "thread1.start()\n",
    "thread2.start()\n",
    "\n",
    "# Wait for both threads to finish\n",
    "thread1.join()\n",
    "thread2.join()\n",
    "\n",
    "print(\"Both threads have finished.\")"
   ]
  },
  {
   "cell_type": "markdown",
   "id": "fbb6923b-138e-4564-91cf-872a7c0ad554",
   "metadata": {},
   "source": [
    "##In this example, two threads are created to print numbers and letters concurrently. The `start()` method initiates the threads, and `join()` ensures that the main program waits for both threads to complete before continuing."
   ]
  },
  {
   "cell_type": "markdown",
   "id": "f5f5418a-5d0b-4a8b-ae2b-b5a4e02da2f6",
   "metadata": {},
   "source": [
    "###Q2.why therading module used ? write the use of the following function:\n",
    "1. ActiveCounnt()\n",
    "2. currentThread()\n",
    "3. enumerate()"
   ]
  },
  {
   "cell_type": "markdown",
   "id": "a75272dd-b94b-432f-a411-f1ddbbcf8a2a",
   "metadata": {},
   "source": [
    "ANS--The `threading` module in Python is used for working with threads and provides a variety of functions and classes for managing and manipulating threads. Here's an explanation of the functions mentioned:\n",
    "\n",
    "1. *`active_count()`*:\n",
    "   - `active_count()` is a method provided by the `threading` module.\n",
    "   - It returns the number of Thread objects currently alive (i.e., currently running or runnable threads).\n",
    "   - This can be useful for monitoring and managing the active threads in a multithreaded application.\n",
    "   \n",
    "   \n",
    "2. *`current_thread()`*:\n",
    "   - `current_thread()` is a method provided by the `threading` module.\n",
    "   - It returns the current Thread object corresponding to the calling thread.\n",
    "   - This is helpful for obtaining a reference to the currently executing thread, which can be useful for various purposes, such as thread-specific data or debugging.\n",
    "\n",
    "\n",
    "\n",
    "3. *`enumerate()`*:\n",
    "   - `enumerate()` is a method provided by the `threading` module.\n",
    "   - It returns a list of all currently alive Thread objects.\n",
    "   - This is useful when you want to iterate through and inspect all the threads currently running in your program."
   ]
  },
  {
   "cell_type": "markdown",
   "id": "701296cd-1fd1-481f-9a5f-bcd3f764fae0",
   "metadata": {},
   "source": [
    "###Q3.Explain the following function:\n",
    "1. run()\n",
    "2. start()\n",
    "3. join()\n",
    "4. isAlive()"
   ]
  },
  {
   "cell_type": "markdown",
   "id": "dc2fdd2e-3f66-4a99-9bb6-8c182f3df72a",
   "metadata": {},
   "source": [
    "ANS-- These are fundamental functions/methods associated with threads in Python's `threading` module. Here's an explanation of each:\n",
    "\n",
    "1. *`run()`*:\n",
    "   - The `run()` method is the entry point for the thread's activity. You should override this method in your custom thread class to define what the thread should do when it's started.\n",
    "   - When you create a custom thread class by subclassing `threading.Thread`, you typically define the behavior of the thread within the `run()` method.\n",
    "   - This method is called automatically when you start the thread using the `start()` method.\n",
    "\n",
    "2. *`start()`*:\n",
    "   - The `start()` method is used to initiate the execution of a thread. It begins the execution of the thread by calling the `run()` method.\n",
    "   - It's essential to call `start()` to start a new thread; directly calling `run()` will not create a new thread but will execute the `run()` method in the current thread.\n",
    "\n",
    "3. *`join()`*:\n",
    "   - The `join()` method is used to block the calling thread until the thread it's called on (the target thread) has completed its execution.\n",
    "   - It's commonly used when you want to wait for a thread to finish its work before proceeding with the rest of the program.\n",
    "   - This method can take an optional timeout parameter to specify a maximum time to wait for the thread to finish.\n",
    "\n",
    "4. *`isAlive()`*:\n",
    "   - The `isAlive()` method is used to check whether a thread is currently running or still active.\n",
    "   - It returns `True` if the thread is running or `False` if it has completed its execution.\n",
    "   - This can be helpful to determine if a thread is still processing before taking further actions.\n",
    "\n",
    "\n",
    "These methods are fundamental for working with threads in Python and are used to control thread execution, synchronization, and checking thread status.\n",
    "\n",
    "\n",
    "\n",
    "\n",
    "HERE's are some examples"
   ]
  },
  {
   "cell_type": "code",
   "execution_count": 37,
   "id": "d9cafd3d-8f25-4bb5-a60c-9cef33bf8ce0",
   "metadata": {},
   "outputs": [
    {
     "name": "stdout",
     "output_type": "stream",
     "text": [
      "Thread is running\n"
     ]
    }
   ],
   "source": [
    "###example of 1.run()\n",
    "import threading\n",
    "\n",
    "class  MyThread(threading.Thread):\n",
    "        def run(self):\n",
    "           \n",
    "           print(\"Thread is running\")\n",
    "\n",
    "thread = MyThread()\n",
    "thread.start() "
   ]
  },
  {
   "cell_type": "code",
   "execution_count": 40,
   "id": "7cf0be2a-2f71-4c88-8b79-1ebacba10c53",
   "metadata": {},
   "outputs": [
    {
     "name": "stdout",
     "output_type": "stream",
     "text": [
      "Thread is running\n"
     ]
    }
   ],
   "source": [
    "###example of 2.start()\n",
    "import threading\n",
    "\n",
    "def my_function():\n",
    "        print(\"Thread is running\")\n",
    "\n",
    "thread = threading.Thread(target=my_function)\n",
    "thread.start()  # Starts a new thread that calls my_function\n",
    "   "
   ]
  },
  {
   "cell_type": "code",
   "execution_count": 48,
   "id": "378f4ed6-760a-4742-b6c7-a34ce5e1cc22",
   "metadata": {},
   "outputs": [
    {
     "name": "stdout",
     "output_type": "stream",
     "text": [
      "Worker thread is running\n",
      "Main thread continues\n"
     ]
    }
   ],
   "source": [
    "###Example of 3.join()\n",
    "import threading\n",
    "\n",
    "def worker():\n",
    "     print(\"Worker thread is running\")\n",
    "\n",
    "thread = threading.Thread(target=worker)\n",
    "thread.start()\n",
    "thread.join()  # Wait for the worker thread to complete before continuing\n",
    "print(\"Main thread continues\")"
   ]
  },
  {
   "cell_type": "code",
   "execution_count": 57,
   "id": "17ff9974-e9a9-41cc-b7c7-3894a9670b0b",
   "metadata": {},
   "outputs": [
    {
     "name": "stdout",
     "output_type": "stream",
     "text": [
      "Is thread alive? True\n",
      "Is thread alive? False\n"
     ]
    }
   ],
   "source": [
    "###Example of 4.isALive()\n",
    "import threading\n",
    "import time\n",
    "\n",
    "def worker():\n",
    "    time.sleep(2)\n",
    "\n",
    "thread = threading.Thread(target=worker)\n",
    "thread.start()\n",
    "print(\"Is thread alive?\", thread.is_alive())  # True while the thread is running\n",
    "thread.join()  # Wait for the worker thread to complete\n",
    "print(\"Is thread alive?\", thread.is_alive())  # False after the thread completes\n",
    "   "
   ]
  },
  {
   "cell_type": "markdown",
   "id": "dac02f40-ed21-4cf1-88d5-9504a8a0cb75",
   "metadata": {},
   "source": [
    "###Q4.write a python program to creat two threads.theread one must print the list of squre and thread two must prints the list of cubes."
   ]
  },
  {
   "cell_type": "code",
   "execution_count": 59,
   "id": "357e7092-cbcb-4d22-8e0f-7b0bfaefe66b",
   "metadata": {},
   "outputs": [
    {
     "name": "stdout",
     "output_type": "stream",
     "text": [
      "Square of 1 is 1\n",
      "Square of 2 is 4\n",
      "Square of 3 is 9\n",
      "Square of 4 is 16\n",
      "Square of 5 is 25\n",
      "Cube of 1 is 1\n",
      "Cube of 2 is 8\n",
      "Cube of 3 is 27\n",
      "Cube of 4 is 64\n",
      "Cube of 5 is 125\n",
      "Both threads have finished.\n"
     ]
    }
   ],
   "source": [
    "import threading\n",
    "\n",
    "# Function to calculate and print squares of numbers\n",
    "def print_squares():\n",
    "    for i in range(1, 6):\n",
    "        print(f\"Square of {i} is {i * i}\")\n",
    "\n",
    "# Function to calculate and print cubes of numbers\n",
    "def print_cubes():\n",
    "    for i in range(1, 6):\n",
    "        print(f\"Cube of {i} is {i * i * i}\")\n",
    "\n",
    "# Create two threads\n",
    "thread1 = threading.Thread(target=print_squares)\n",
    "thread2 = threading.Thread(target=print_cubes)\n",
    "\n",
    "# Start the threads\n",
    "thread1.start()\n",
    "thread2.start()\n",
    "\n",
    "# Wait for both threads to finish\n",
    "thread1.join()\n",
    "thread2.join()\n",
    "\n",
    "print(\"Both threads have finished.\")"
   ]
  },
  {
   "cell_type": "markdown",
   "id": "bf4e2815-5671-4954-8f6d-933a1f11a1c8",
   "metadata": {},
   "source": [
    "`thread1` prints the squares of numbers from 1 to 5, and `thread2` prints the cubes of the same numbers. `start()` is used to start both threads, and `join()` is used to wait for them to complete before printing \"Both threads have finished.\""
   ]
  },
  {
   "cell_type": "markdown",
   "id": "861ffbab-4348-4cd7-af4d-26c00d19a1bf",
   "metadata": {},
   "source": [
    "###Q5.stats advantages and disadvantages of multithreading.\n",
    "\n",
    "ANS--Multithreading offers several advantages and disadvantages, depending on the context and how effectively it's used:\n",
    "\n",
    "*Advantages of Multithreading:*\n",
    "\n",
    "1. *Concurrency:* Multithreading allows multiple tasks to run concurrently, making efficient use of available CPU cores. This can lead to improved performance for certain types of applications.\n",
    "\n",
    "2. *Responsiveness:* In applications with user interfaces, multithreading can help keep the UI responsive, ensuring that the application remains interactive even when performing background tasks.\n",
    "\n",
    "3. *Resource Sharing:* Threads share memory space, making it easier to share data between threads. This can be advantageous when multiple threads need access to the same data or resources.\n",
    "\n",
    "4. *Efficient I/O Operations:* For I/O-bound tasks (e.g., file I/O, network requests), threads can overlap waiting periods, making the most of CPU time and improving overall throughput.\n",
    "\n",
    "5. *Lower Overhead:* Threads are more lightweight than processes, so creating and managing them typically has less overhead.\n",
    "\n",
    "\n",
    "*Disadvantages of Multithreading:*\n",
    "\n",
    "1. *Complexity:* Multithreaded programs can be challenging to develop and debug due to issues like race conditions, deadlocks, and synchronization problems.\n",
    "\n",
    "2. *Concurrency Bugs:* Race conditions and other concurrency-related bugs can be hard to reproduce and diagnose, making them tricky to eliminate.\n",
    "\n",
    "3. *Global Interpreter Lock (GIL):* In Python, the Global Interpreter Lock (GIL) limits the execution of multiple threads in a single process, making it less effective for CPU-bound tasks. This can lead to suboptimal performance in certain scenarios.\n",
    "\n",
    "4. *Synchronization Overhead:* Proper synchronization mechanisms (e.g., locks, semaphores) are required to coordinate access to shared resources, adding complexity and potentially introducing performance overhead.\n",
    "\n",
    "5. *Increased Memory Usage:* Each thread consumes some memory for its stack, and a program with many threads can consume a significant amount of memory.\n",
    "\n",
    "6. *Portability Challenges:* Multithreading behavior can vary between operating systems, making it challenging to write portable code.\n",
    "\n",
    "\n",
    "\n",
    "In summary, multithreading is a powerful tool when used correctly, especially for I/O-bound and concurrent tasks. However, it comes with challenges related to concurrency bugs, synchronization, and the limitations of the GIL in Python. Developers should carefully consider the specific requirements of their applications before opting for multithreading or exploring alternatives like multiprocessing or asynchronous programming."
   ]
  },
  {
   "cell_type": "markdown",
   "id": "ebf240cb-868e-488c-a5f6-a5e1848f2287",
   "metadata": {},
   "source": [
    "###Q6.Explain deadlocks and race condition.\n",
    "\n",
    "\n",
    "ANS--Deadlocks and race conditions are two common concurrency-related issues that can occur when multiple threads or processes access shared resources in a concurrent system.\n",
    "\n",
    "*Deadlock:*\n",
    "\n",
    "A deadlock is a situation in which two or more threads or processes are unable to proceed because each is waiting for the other to release a resource. In other words, it's a circular waiting condition. Deadlocks can occur in concurrent systems when the following conditions are met:\n",
    "\n",
    "1. *Mutual Exclusion:* Processes must be able to hold resources exclusively, preventing other processes from accessing them while they are in use.\n",
    "\n",
    "2. *Hold and Wait:* Processes must hold at least one resource and wait for additional resources that are currently held by other processes.\n",
    "\n",
    "3. *No Preemption:* Resources cannot be forcibly taken away from a process; they must be released voluntarily.\n",
    "\n",
    "4. *Circular Wait:* A circular chain of two or more processes exists, where each process is waiting for a resource held by the next process in the chain.\n",
    "\n",
    "Deadlocks can be challenging to detect and resolve. To prevent deadlocks, strategies like resource allocation graphs, timeouts, and resource ordering are employed.\n",
    "\n",
    "*Race Condition:*\n",
    "\n",
    "A race condition occurs when two or more threads or processes access shared data concurrently, and the final outcome depends on the timing or order of execution. In other words, there's a \"race\" between threads to access and modify shared resources. Race conditions can lead to unexpected and erroneous behavior in a program. They typically happen when:\n",
    "\n",
    "1. *Shared Data:* Multiple threads or processes access the same shared data.\n",
    "\n",
    "2. *Non-Atomic Operations:* Operations on the shared data are not atomic, meaning they consist of multiple smaller steps that can be interleaved with other threads' operations.\n",
    "\n",
    "3. *Lack of Proper Synchronization:* There's insufficient synchronization (e.g., locks or semaphores) to coordinate access to the shared data.\n",
    "\n",
    "Race conditions can result in data corruption, inconsistent program state, or unexpected behaviors. To mitigate race conditions, synchronization mechanisms like locks or semaphores are used to ensure that only one thread can access the shared data at a time.\n",
    "\n",
    "In summary, deadlocks occur when processes or threads are stuck in a circular waiting pattern for resources, while race conditions occur when multiple threads access shared data without proper synchronization, leading to unpredictable and incorrect outcomes. Both issues can be challenging to identify and resolve, so careful design and testing are crucial when developing concurrent software."
   ]
  },
  {
   "cell_type": "code",
   "execution_count": null,
   "id": "f18ca25c-b93c-4c92-8b99-a2d8212fca94",
   "metadata": {},
   "outputs": [],
   "source": []
  }
 ],
 "metadata": {
  "kernelspec": {
   "display_name": "Python 3 (ipykernel)",
   "language": "python",
   "name": "python3"
  },
  "language_info": {
   "codemirror_mode": {
    "name": "ipython",
    "version": 3
   },
   "file_extension": ".py",
   "mimetype": "text/x-python",
   "name": "python",
   "nbconvert_exporter": "python",
   "pygments_lexer": "ipython3",
   "version": "3.10.8"
  }
 },
 "nbformat": 4,
 "nbformat_minor": 5
}
